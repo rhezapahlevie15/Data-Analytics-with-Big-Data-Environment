{
  "cells": [
    {
      "cell_type": "markdown",
      "source": [
        "**SUMBER DATA:**\n",
        "\n",
        "https://drive.google.com/file/d/1Sw-yO1lAqGTK_CBYXTbBP7HzuLHSdz4R/view?usp=sharing\n"
      ],
      "metadata": {
        "id": "gKJyQ0CTowyC"
      }
    },
    {
      "cell_type": "markdown",
      "source": [
        "Melakukan Import Path Python"
      ],
      "metadata": {
        "id": "qBbDXc_AoeEz"
      }
    },
    {
      "cell_type": "code",
      "source": [
        "print(sys.path)"
      ],
      "metadata": {
        "id": "9GV7q6ucoryY"
      },
      "execution_count": null,
      "outputs": []
    },
    {
      "cell_type": "code",
      "execution_count": null,
      "metadata": {
        "id": "IQa9Zp9Ukpa0"
      },
      "outputs": [],
      "source": [
        "sys.path.append(\"/anaconda3/envs/pbd/lib/python3.7/site-packages\")"
      ]
    },
    {
      "cell_type": "markdown",
      "metadata": {
        "id": "vyVS7yvZkpa3"
      },
      "source": [
        "# Import Findspark"
      ]
    },
    {
      "cell_type": "code",
      "execution_count": null,
      "metadata": {
        "id": "vu4cF7ibkpa3"
      },
      "outputs": [],
      "source": [
        "import findspark\n",
        "findspark.init()"
      ]
    },
    {
      "cell_type": "markdown",
      "metadata": {
        "id": "_Y9Og9s6kpa4"
      },
      "source": [
        "# Inisiasi SparkSession"
      ]
    },
    {
      "cell_type": "code",
      "execution_count": null,
      "metadata": {
        "id": "EvUWszaYkpa4"
      },
      "outputs": [],
      "source": [
        "import pyspark"
      ]
    },
    {
      "cell_type": "code",
      "execution_count": null,
      "metadata": {
        "id": "ewjXLgVskpa5",
        "outputId": "05816ec7-e15c-4f01-be0d-dda62d7afe42"
      },
      "outputs": [
        {
          "name": "stdout",
          "output_type": "stream",
          "text": [
            "23/11/27 15:57:51 WARN Utils: Your hostname, rheza-VirtualBox resolves to a loopback address: 127.0.1.1; using 10.0.2.15 instead (on interface enp0s3)\n",
            "23/11/27 15:57:51 WARN Utils: Set SPARK_LOCAL_IP if you need to bind to another address\n"
          ]
        },
        {
          "name": "stderr",
          "output_type": "stream",
          "text": [
            "Setting default log level to \"WARN\".\n",
            "To adjust logging level use sc.setLogLevel(newLevel). For SparkR, use setLogLevel(newLevel).\n"
          ]
        },
        {
          "name": "stdout",
          "output_type": "stream",
          "text": [
            "23/11/27 15:57:52 WARN NativeCodeLoader: Unable to load native-hadoop library for your platform... using builtin-java classes where applicable\n"
          ]
        }
      ],
      "source": [
        "from pyspark.sql import SparkSession\n",
        "spark = SparkSession.builder.appName(\"bda\").getOrCreate()"
      ]
    },
    {
      "cell_type": "markdown",
      "metadata": {
        "id": "iIOSYvs2kpa7"
      },
      "source": [
        "# Import Library untuk Visualisasi"
      ]
    },
    {
      "cell_type": "code",
      "execution_count": null,
      "metadata": {
        "id": "iOZTXJVykpa9"
      },
      "outputs": [],
      "source": [
        "import seaborn as sns\n",
        "import matplotlib.pyplot as plt"
      ]
    },
    {
      "cell_type": "markdown",
      "metadata": {
        "id": "Y1xgeKDpkpa9"
      },
      "source": [
        "# Mengambil Data dari HDFS"
      ]
    },
    {
      "cell_type": "code",
      "execution_count": null,
      "metadata": {
        "id": "8-h0Kh4Bkpa-"
      },
      "outputs": [],
      "source": [
        "file_path = \"hdfs://127.0.1.1:9000/matkul/bda/Mall_Customers2.csv\""
      ]
    },
    {
      "cell_type": "markdown",
      "metadata": {
        "id": "eFgWvUBlkpa_"
      },
      "source": [
        "# Membaca Data dan Menampilkan Data"
      ]
    },
    {
      "cell_type": "code",
      "execution_count": null,
      "metadata": {
        "id": "BKahx9e-kpa_"
      },
      "outputs": [],
      "source": [
        "data = spark.read.csv(file_path, header=True, inferSchema=True)"
      ]
    },
    {
      "cell_type": "code",
      "execution_count": null,
      "metadata": {
        "id": "S7YmMyVmkpbA",
        "outputId": "a8b1880a-d855-45b5-e275-ed4227118bbe"
      },
      "outputs": [
        {
          "name": "stdout",
          "output_type": "stream",
          "text": [
            "+----------+------+---+------------------+----------------------+\n",
            "|CustomerID|Gender|Age|Annual Income (k$)|Spending Score (1-100)|\n",
            "+----------+------+---+------------------+----------------------+\n",
            "|1         |Male  |19 |15                |39                    |\n",
            "|2         |Male  |21 |15                |81                    |\n",
            "|3         |Female|20 |16                |6                     |\n",
            "|4         |Female|23 |16                |77                    |\n",
            "|5         |Female|31 |17                |40                    |\n",
            "|6         |Female|22 |17                |76                    |\n",
            "|7         |Female|35 |18                |6                     |\n",
            "|8         |Female|23 |18                |94                    |\n",
            "|9         |Male  |64 |19                |3                     |\n",
            "|10        |Female|30 |19                |72                    |\n",
            "+----------+------+---+------------------+----------------------+\n",
            "only showing top 10 rows\n",
            "\n"
          ]
        }
      ],
      "source": [
        "data.show(10, truncate=False)"
      ]
    },
    {
      "cell_type": "markdown",
      "metadata": {
        "id": "tZqcFqlBkpbA"
      },
      "source": [
        "# Memproses Data Menggunakan Vector Assembler dan StandarScaler"
      ]
    },
    {
      "cell_type": "code",
      "execution_count": null,
      "metadata": {
        "id": "ILBzDX9DkpbA"
      },
      "outputs": [],
      "source": [
        "selected_features = data.select(\"Age\", \"Annual Income (k$)\", \"Spending Score (1-100)\")"
      ]
    },
    {
      "cell_type": "code",
      "execution_count": null,
      "metadata": {
        "id": "RgLFSOJWkpbB"
      },
      "outputs": [],
      "source": [
        "from pyspark.ml.feature import VectorAssembler\n",
        "from pyspark.ml.feature import StandardScaler"
      ]
    },
    {
      "cell_type": "code",
      "execution_count": null,
      "metadata": {
        "id": "IWMd8yIwkpbB"
      },
      "outputs": [],
      "source": [
        "assembler = VectorAssembler(inputCols=[\"Annual Income (k$)\", \"Spending Score (1-100)\"], outputCol=\"features\")\n",
        "selected_features = assembler.transform(selected_features)\n",
        "\n"
      ]
    },
    {
      "cell_type": "markdown",
      "source": [],
      "metadata": {
        "id": "VH3Q3ORNoNz4"
      }
    },
    {
      "cell_type": "code",
      "execution_count": null,
      "metadata": {
        "scrolled": true,
        "id": "MjahqQGlkpbB"
      },
      "outputs": [],
      "source": [
        "scaler = StandardScaler(inputCol=\"features\", outputCol=\"scaled_features\", withStd=True, withMean=True)\n",
        "scaler_model = scaler.fit(selected_features)\n",
        "selected_features = scaler_model.transform(selected_features)"
      ]
    },
    {
      "cell_type": "markdown",
      "metadata": {
        "id": "ddF45arqkpbC"
      },
      "source": [
        "# Menggunakan KMeans untuk Pengelompokan Data"
      ]
    },
    {
      "cell_type": "code",
      "execution_count": null,
      "metadata": {
        "id": "wU2Dio--kpbC"
      },
      "outputs": [],
      "source": [
        "from pyspark.ml.clustering import KMeans\n",
        "\n",
        "kmeans = KMeans().setK(5).setSeed(1)\n",
        "model = kmeans.fit(selected_features)"
      ]
    },
    {
      "cell_type": "markdown",
      "metadata": {
        "id": "RRtN4bFEkpbC"
      },
      "source": [
        "# Melakukan Prediksi dan Disimpan dalam Data Frame"
      ]
    },
    {
      "cell_type": "code",
      "execution_count": null,
      "metadata": {
        "id": "lCPuKXSpkpbD"
      },
      "outputs": [],
      "source": [
        "predictions = model.transform(selected_features)"
      ]
    },
    {
      "cell_type": "code",
      "execution_count": null,
      "metadata": {
        "id": "Hk4FMzpakpbD",
        "outputId": "f79f96e6-5a32-4423-9a58-0f3a346c9e63"
      },
      "outputs": [
        {
          "name": "stdout",
          "output_type": "stream",
          "text": [
            "+------------------+----------------------+----------+\n",
            "|Annual Income (k$)|Spending Score (1-100)|prediction|\n",
            "+------------------+----------------------+----------+\n",
            "|                15|                    39|         4|\n",
            "|                15|                    81|         2|\n",
            "|                16|                     6|         4|\n",
            "|                16|                    77|         2|\n",
            "|                17|                    40|         4|\n",
            "|                17|                    76|         2|\n",
            "|                18|                     6|         4|\n",
            "|                18|                    94|         2|\n",
            "|                19|                     3|         4|\n",
            "|                19|                    72|         2|\n",
            "|                19|                    14|         4|\n",
            "|                19|                    99|         2|\n",
            "|                20|                    15|         4|\n",
            "|                20|                    77|         2|\n",
            "|                20|                    13|         4|\n",
            "|                20|                    79|         2|\n",
            "|                21|                    35|         4|\n",
            "|                21|                    66|         2|\n",
            "|                23|                    29|         4|\n",
            "+------------------+----------------------+----------+\n",
            "only showing top 19 rows\n",
            "\n"
          ]
        }
      ],
      "source": [
        "predictions.select(\"Annual Income (k$)\", \"Spending Score (1-100)\", \"prediction\").show(19)"
      ]
    },
    {
      "cell_type": "markdown",
      "metadata": {
        "id": "xmDC5KJikpbE"
      },
      "source": [
        "# Melakukan Visualisasi hasil KMeans"
      ]
    },
    {
      "cell_type": "code",
      "execution_count": null,
      "metadata": {
        "id": "W9giRcRkkpbE",
        "outputId": "8109404a-1481-4e5d-c44e-12117a0c41cf"
      },
      "outputs": [
        {
          "name": "stdout",
          "output_type": "stream",
          "text": [
            "+-----------+----------+\n",
            "|   features|prediction|\n",
            "+-----------+----------+\n",
            "|[15.0,39.0]|         4|\n",
            "|[15.0,81.0]|         2|\n",
            "| [16.0,6.0]|         4|\n",
            "|[16.0,77.0]|         2|\n",
            "|[17.0,40.0]|         4|\n",
            "|[17.0,76.0]|         2|\n",
            "| [18.0,6.0]|         4|\n",
            "|[18.0,94.0]|         2|\n",
            "| [19.0,3.0]|         4|\n",
            "|[19.0,72.0]|         2|\n",
            "|[19.0,14.0]|         4|\n",
            "|[19.0,99.0]|         2|\n",
            "|[20.0,15.0]|         4|\n",
            "|[20.0,77.0]|         2|\n",
            "|[20.0,13.0]|         4|\n",
            "|[20.0,79.0]|         2|\n",
            "|[21.0,35.0]|         4|\n",
            "|[21.0,66.0]|         2|\n",
            "|[23.0,29.0]|         4|\n",
            "|[23.0,98.0]|         2|\n",
            "+-----------+----------+\n",
            "only showing top 20 rows\n",
            "\n"
          ]
        },
        {
          "data": {
            "image/png": "[encoded data removed]",
            "text/plain": [
              "<Figure size 800x600 with 2 Axes>"
            ]
          },
          "metadata": {},
          "output_type": "display_data"
        }
      ],
      "source": [
        "\n",
        "import matplotlib.pyplot as plt\n",
        "import pandas as pd\n",
        "from sklearn.cluster import KMeans\n",
        "\n",
        "# Mengambil kolom features dan prediction untuk visualisasi\n",
        "features_and_predictions = predictions.select(\"features\", \"prediction\")\n",
        "\n",
        "# Mendefinisikan jumlah klaster (sesuaikan dengan kebutuhan Anda)\n",
        "num_clusters = 5\n",
        "\n",
        "# Menampilkan hasil klastering\n",
        "features_and_predictions.show()\n",
        "\n",
        "# Konversi ke Pandas DataFrame untuk memvisualisasikan dengan matplotlib\n",
        "pandas_df = features_and_predictions.toPandas()\n",
        "\n",
        "# Visualisasi scatter plot\n",
        "plt.figure(figsize=(8, 6))\n",
        "scatter = plt.scatter(pandas_df[\"features\"].apply(lambda x: x[0]), pandas_df[\"features\"].apply(lambda x: x[1]), c=pandas_df[\"prediction\"], cmap=\"viridis\")\n",
        "plt.title(\"Hasil Klastering dengan Annual Income dan Spending Score\")\n",
        "plt.xlabel(\"Annual Income (k$)\")\n",
        "plt.ylabel(\"Spending Score (1-100)\")\n",
        "\n",
        "# Menambahkan legenda\n",
        "legend = plt.colorbar(scatter)\n",
        "legend.set_label('Cluster')\n",
        "\n",
        "# Menambahkan centroid untuk setiap klaster\n",
        "kmeans_model = KMeans(n_clusters=num_clusters, random_state=42)\n",
        "kmeans_model.fit(pandas_df[\"features\"].to_list())\n",
        "centroids = kmeans_model.cluster_centers_\n",
        "\n",
        "plt.scatter(centroids[:, 0], centroids[:, 1], marker='X', s=200, c='red', label='Centroid')\n",
        "\n",
        "plt.show()\n"
      ]
    },
    {
      "cell_type": "markdown",
      "metadata": {
        "id": "2CMylcMLkpbE"
      },
      "source": [
        "# Evaluasi Hasil"
      ]
    },
    {
      "cell_type": "code",
      "execution_count": null,
      "metadata": {
        "id": "vCjuJ8kCkpbF",
        "outputId": "11866f72-6424-4d95-b6f0-0029e1a10e69"
      },
      "outputs": [
        {
          "name": "stdout",
          "output_type": "stream",
          "text": [
            "Silhouette Score: 0.7397829244623759\n"
          ]
        }
      ],
      "source": [
        "from pyspark.ml.evaluation import ClusteringEvaluator\n",
        "\n",
        "evaluator = ClusteringEvaluator()\n",
        "silhouette = evaluator.evaluate(predictions)\n",
        "print(f\"Silhouette Score: {silhouette}\")"
      ]
    }
  ],
  "metadata": {
    "kernelspec": {
      "display_name": "Python 3 (ipykernel)",
      "language": "python",
      "name": "python3"
    },
    "language_info": {
      "codemirror_mode": {
        "name": "ipython",
        "version": 3
      },
      "file_extension": ".py",
      "mimetype": "text/x-python",
      "name": "python",
      "nbconvert_exporter": "python",
      "pygments_lexer": "ipython3",
      "version": "3.7.16"
    },
    "colab": {
      "provenance": []
    }
  },
  "nbformat": 4,
  "nbformat_minor": 0
}